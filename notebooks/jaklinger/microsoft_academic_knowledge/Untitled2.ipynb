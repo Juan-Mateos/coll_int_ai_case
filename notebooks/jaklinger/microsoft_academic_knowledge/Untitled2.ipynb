{
 "cells": [
  {
   "cell_type": "code",
   "execution_count": 3,
   "metadata": {
    "collapsed": false
   },
   "outputs": [],
   "source": [
    "%load_ext autoreload"
   ]
  },
  {
   "cell_type": "code",
   "execution_count": 4,
   "metadata": {
    "collapsed": false
   },
   "outputs": [],
   "source": [
    "%autoreload 2\n",
    "from geocode_mak import lat_lon_from_mak_names\n",
    "import pandas as pd"
   ]
  },
  {
   "cell_type": "code",
   "execution_count": 5,
   "metadata": {
    "collapsed": true
   },
   "outputs": [],
   "source": [
    "mak_df = pd.read_csv(\"/Users/hep/Downloads/19_10_2017_organisations_to_geocode.csv\",names=[\"institutes\",\"n\"])"
   ]
  },
  {
   "cell_type": "code",
   "execution_count": 9,
   "metadata": {
    "collapsed": false
   },
   "outputs": [
    {
     "name": "stderr",
     "output_type": "stream",
     "text": [
      "100%|██████████| 3979/3979 [00:36<00:00, 110.47it/s]\n"
     ]
    }
   ],
   "source": [
    "lat_lon_match_score = lat_lon_from_mak_names(mak_df[\"institutes\"],\"~/Downloads/grid20170810/\",perfect_only=True)"
   ]
  },
  {
   "cell_type": "code",
   "execution_count": 14,
   "metadata": {
    "collapsed": false
   },
   "outputs": [],
   "source": [
    "mak_df[\"longitude\"] = [lon for lat,lon,match,score in lat_lon_match_score]\n",
    "mak_df[\"latitude\"] = [lat for lat,lon,match,score in lat_lon_match_score]\n",
    "mak_df[\"match\"] = [match for lat,lon,match,score in lat_lon_match_score]\n",
    "mak_df[\"score\"] = [score for lat,lon,match,score in lat_lon_match_score]"
   ]
  },
  {
   "cell_type": "code",
   "execution_count": 15,
   "metadata": {
    "collapsed": false
   },
   "outputs": [],
   "source": [
    "mak_df.to_csv(\"/Users/hep/Downloads/19_10_2017_organisations_geocoded_perfectOnly.csv\")"
   ]
  },
  {
   "cell_type": "code",
   "execution_count": 17,
   "metadata": {
    "collapsed": false
   },
   "outputs": [
    {
     "data": {
      "text/html": [
       "<div>\n",
       "<style>\n",
       "    .dataframe thead tr:only-child th {\n",
       "        text-align: right;\n",
       "    }\n",
       "\n",
       "    .dataframe thead th {\n",
       "        text-align: left;\n",
       "    }\n",
       "\n",
       "    .dataframe tbody tr th {\n",
       "        vertical-align: top;\n",
       "    }\n",
       "</style>\n",
       "<table border=\"1\" class=\"dataframe\">\n",
       "  <thead>\n",
       "    <tr style=\"text-align: right;\">\n",
       "      <th></th>\n",
       "      <th>institutes</th>\n",
       "      <th>n</th>\n",
       "      <th>longitude</th>\n",
       "      <th>latitude</th>\n",
       "      <th>match</th>\n",
       "      <th>score</th>\n",
       "    </tr>\n",
       "  </thead>\n",
       "  <tbody>\n",
       "    <tr>\n",
       "      <th>3974</th>\n",
       "      <td>department of environment and conservation</td>\n",
       "      <td>1</td>\n",
       "      <td>-52.721597</td>\n",
       "      <td>47.558815</td>\n",
       "      <td>Department of Environment and Conservation</td>\n",
       "      <td>1.0</td>\n",
       "    </tr>\n",
       "    <tr>\n",
       "      <th>3975</th>\n",
       "      <td>babol noshirvani university of technology</td>\n",
       "      <td>1</td>\n",
       "      <td>52.681725</td>\n",
       "      <td>36.561561</td>\n",
       "      <td>Babol Noshirvani University of Technology</td>\n",
       "      <td>1.0</td>\n",
       "    </tr>\n",
       "    <tr>\n",
       "      <th>3976</th>\n",
       "      <td>united nations industrial development organiza...</td>\n",
       "      <td>1</td>\n",
       "      <td>16.416660</td>\n",
       "      <td>48.235761</td>\n",
       "      <td>United Nations Industrial Development Organiza...</td>\n",
       "      <td>1.0</td>\n",
       "    </tr>\n",
       "    <tr>\n",
       "      <th>3977</th>\n",
       "      <td>cgi group</td>\n",
       "      <td>1</td>\n",
       "      <td>NaN</td>\n",
       "      <td>NaN</td>\n",
       "      <td>None</td>\n",
       "      <td>0.0</td>\n",
       "    </tr>\n",
       "    <tr>\n",
       "      <th>3978</th>\n",
       "      <td>armasuisse</td>\n",
       "      <td>1</td>\n",
       "      <td>NaN</td>\n",
       "      <td>NaN</td>\n",
       "      <td>None</td>\n",
       "      <td>0.0</td>\n",
       "    </tr>\n",
       "  </tbody>\n",
       "</table>\n",
       "</div>"
      ],
      "text/plain": [
       "                                             institutes  n  longitude  \\\n",
       "3974         department of environment and conservation  1 -52.721597   \n",
       "3975          babol noshirvani university of technology  1  52.681725   \n",
       "3976  united nations industrial development organiza...  1  16.416660   \n",
       "3977                                          cgi group  1        NaN   \n",
       "3978                                         armasuisse  1        NaN   \n",
       "\n",
       "       latitude                                              match  score  \n",
       "3974  47.558815         Department of Environment and Conservation    1.0  \n",
       "3975  36.561561          Babol Noshirvani University of Technology    1.0  \n",
       "3976  48.235761  United Nations Industrial Development Organiza...    1.0  \n",
       "3977        NaN                                               None    0.0  \n",
       "3978        NaN                                               None    0.0  "
      ]
     },
     "execution_count": 17,
     "metadata": {},
     "output_type": "execute_result"
    }
   ],
   "source": [
    "mak_df.tail()"
   ]
  },
  {
   "cell_type": "code",
   "execution_count": 19,
   "metadata": {
    "collapsed": false
   },
   "outputs": [
    {
     "name": "stdout",
     "output_type": "stream",
     "text": [
      "2389\n",
      "1410\n",
      "180\n"
     ]
    }
   ],
   "source": [
    "null_long = pd.isnull(mak_df.longitude)\n",
    "null_lat = pd.isnull(mak_df.latitude)\n",
    "null_match = pd.isnull(mak_df.match)\n",
    "\n",
    "print((~(null_long | null_lat)).sum())\n",
    "print(((null_long | null_lat) & null_match).sum())\n",
    "print(((null_long | null_lat) & ~null_match).sum())"
   ]
  },
  {
   "cell_type": "code",
   "execution_count": 20,
   "metadata": {
    "collapsed": false
   },
   "outputs": [
    {
     "data": {
      "text/plain": [
       "{'institutes': 'united arab emirates university',\n",
       " 'latitude': 24.198948,\n",
       " 'longitude': 55.678852,\n",
       " 'match': 'United Arab Emirates University',\n",
       " 'n': 37519,\n",
       " 'score': 1.0}"
      ]
     },
     "execution_count": 20,
     "metadata": {},
     "output_type": "execute_result"
    }
   ],
   "source": [
    "mak_df.to_dict(orient=\"records\")[0]"
   ]
  },
  {
   "cell_type": "code",
   "execution_count": null,
   "metadata": {
    "collapsed": true
   },
   "outputs": [],
   "source": []
  }
 ],
 "metadata": {
  "kernelspec": {
   "display_name": "Python [conda env:py35]",
   "language": "python",
   "name": "conda-env-py35-py"
  },
  "language_info": {
   "codemirror_mode": {
    "name": "ipython",
    "version": 3
   },
   "file_extension": ".py",
   "mimetype": "text/x-python",
   "name": "python",
   "nbconvert_exporter": "python",
   "pygments_lexer": "ipython3",
   "version": "3.5.2"
  }
 },
 "nbformat": 4,
 "nbformat_minor": 1
}
