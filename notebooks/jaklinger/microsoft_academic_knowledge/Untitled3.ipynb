{
 "cells": [
  {
   "cell_type": "code",
   "execution_count": 3,
   "metadata": {
    "collapsed": true
   },
   "outputs": [],
   "source": [
    "import pandas as pd\n",
    "from os.path import join as pjoin"
   ]
  },
  {
   "cell_type": "code",
   "execution_count": 2,
   "metadata": {
    "collapsed": true
   },
   "outputs": [],
   "source": [
    "df = pd.read_csv(\"/Users/hep/Downloads/19_10_2017_organisations_geocoded.csv\")"
   ]
  },
  {
   "cell_type": "code",
   "execution_count": 4,
   "metadata": {
    "collapsed": true
   },
   "outputs": [],
   "source": [
    "grid_path = \"~/Downloads/grid20170810/\"\n",
    "grid_full = pd.read_csv(pjoin(grid_path,\"grid.csv\"),low_memory=False)\n",
    "grid_address = pd.read_csv(pjoin(grid_path,\"full_tables/addresses.csv\"),low_memory=False)\n",
    "grid_alias = pd.read_csv(pjoin(grid_path,\"full_tables/aliases.csv\"),low_memory=False)\n",
    "# Join the dataframes                                                                                                                               \n",
    "grid_df = grid_full.join(grid_address.set_index(keys=[\"grid_id\"]),on=\"ID\")\n",
    "grid_df = grid_df.join(grid_alias.set_index(keys=[\"grid_id\"]),on=\"ID\")\n",
    "grid_df = grid_df[[\"Name\",\"lat\",\"lng\",\"ID\",\"alias\"]]"
   ]
  },
  {
   "cell_type": "code",
   "execution_count": 5,
   "metadata": {
    "collapsed": false
   },
   "outputs": [
    {
     "data": {
      "text/html": [
       "<div>\n",
       "<style>\n",
       "    .dataframe thead tr:only-child th {\n",
       "        text-align: right;\n",
       "    }\n",
       "\n",
       "    .dataframe thead th {\n",
       "        text-align: left;\n",
       "    }\n",
       "\n",
       "    .dataframe tbody tr th {\n",
       "        vertical-align: top;\n",
       "    }\n",
       "</style>\n",
       "<table border=\"1\" class=\"dataframe\">\n",
       "  <thead>\n",
       "    <tr style=\"text-align: right;\">\n",
       "      <th></th>\n",
       "      <th>grid_id</th>\n",
       "      <th>line_1</th>\n",
       "      <th>line_2</th>\n",
       "      <th>line_3</th>\n",
       "      <th>lat</th>\n",
       "      <th>lng</th>\n",
       "      <th>postcode</th>\n",
       "      <th>primary</th>\n",
       "      <th>city</th>\n",
       "      <th>state</th>\n",
       "      <th>state_code</th>\n",
       "      <th>country</th>\n",
       "      <th>country_code</th>\n",
       "      <th>geonames_city_id</th>\n",
       "    </tr>\n",
       "  </thead>\n",
       "  <tbody>\n",
       "    <tr>\n",
       "      <th>0</th>\n",
       "      <td>grid.1001.0</td>\n",
       "      <td>NaN</td>\n",
       "      <td>NaN</td>\n",
       "      <td>NaN</td>\n",
       "      <td>-35.277800</td>\n",
       "      <td>149.120500</td>\n",
       "      <td>NaN</td>\n",
       "      <td>False</td>\n",
       "      <td>Canberra</td>\n",
       "      <td>Australian Capital Territory</td>\n",
       "      <td>AU-ACT</td>\n",
       "      <td>Australia</td>\n",
       "      <td>AU</td>\n",
       "      <td>2172517.0</td>\n",
       "    </tr>\n",
       "    <tr>\n",
       "      <th>1</th>\n",
       "      <td>grid.1002.3</td>\n",
       "      <td>NaN</td>\n",
       "      <td>NaN</td>\n",
       "      <td>NaN</td>\n",
       "      <td>-37.908300</td>\n",
       "      <td>145.138000</td>\n",
       "      <td>NaN</td>\n",
       "      <td>False</td>\n",
       "      <td>Melbourne</td>\n",
       "      <td>Victoria</td>\n",
       "      <td>AU-VIC</td>\n",
       "      <td>Australia</td>\n",
       "      <td>AU</td>\n",
       "      <td>2158177.0</td>\n",
       "    </tr>\n",
       "    <tr>\n",
       "      <th>2</th>\n",
       "      <td>grid.1003.2</td>\n",
       "      <td>NaN</td>\n",
       "      <td>NaN</td>\n",
       "      <td>NaN</td>\n",
       "      <td>-27.495964</td>\n",
       "      <td>153.009627</td>\n",
       "      <td>NaN</td>\n",
       "      <td>False</td>\n",
       "      <td>Brisbane</td>\n",
       "      <td>Queensland</td>\n",
       "      <td>AU-QLD</td>\n",
       "      <td>Australia</td>\n",
       "      <td>AU</td>\n",
       "      <td>2174003.0</td>\n",
       "    </tr>\n",
       "    <tr>\n",
       "      <th>3</th>\n",
       "      <td>grid.1004.5</td>\n",
       "      <td>NaN</td>\n",
       "      <td>NaN</td>\n",
       "      <td>NaN</td>\n",
       "      <td>-33.775259</td>\n",
       "      <td>151.112915</td>\n",
       "      <td>NaN</td>\n",
       "      <td>False</td>\n",
       "      <td>Sydney</td>\n",
       "      <td>New South Wales</td>\n",
       "      <td>AU-NSW</td>\n",
       "      <td>Australia</td>\n",
       "      <td>AU</td>\n",
       "      <td>2147714.0</td>\n",
       "    </tr>\n",
       "    <tr>\n",
       "      <th>4</th>\n",
       "      <td>grid.1005.4</td>\n",
       "      <td>NaN</td>\n",
       "      <td>NaN</td>\n",
       "      <td>NaN</td>\n",
       "      <td>-33.917731</td>\n",
       "      <td>151.230964</td>\n",
       "      <td>NaN</td>\n",
       "      <td>False</td>\n",
       "      <td>Sydney</td>\n",
       "      <td>New South Wales</td>\n",
       "      <td>AU-NSW</td>\n",
       "      <td>Australia</td>\n",
       "      <td>AU</td>\n",
       "      <td>2147714.0</td>\n",
       "    </tr>\n",
       "  </tbody>\n",
       "</table>\n",
       "</div>"
      ],
      "text/plain": [
       "       grid_id line_1 line_2  line_3        lat         lng postcode  primary  \\\n",
       "0  grid.1001.0    NaN    NaN     NaN -35.277800  149.120500      NaN    False   \n",
       "1  grid.1002.3    NaN    NaN     NaN -37.908300  145.138000      NaN    False   \n",
       "2  grid.1003.2    NaN    NaN     NaN -27.495964  153.009627      NaN    False   \n",
       "3  grid.1004.5    NaN    NaN     NaN -33.775259  151.112915      NaN    False   \n",
       "4  grid.1005.4    NaN    NaN     NaN -33.917731  151.230964      NaN    False   \n",
       "\n",
       "        city                         state state_code    country country_code  \\\n",
       "0   Canberra  Australian Capital Territory     AU-ACT  Australia           AU   \n",
       "1  Melbourne                      Victoria     AU-VIC  Australia           AU   \n",
       "2   Brisbane                    Queensland     AU-QLD  Australia           AU   \n",
       "3     Sydney               New South Wales     AU-NSW  Australia           AU   \n",
       "4     Sydney               New South Wales     AU-NSW  Australia           AU   \n",
       "\n",
       "   geonames_city_id  \n",
       "0         2172517.0  \n",
       "1         2158177.0  \n",
       "2         2174003.0  \n",
       "3         2147714.0  \n",
       "4         2147714.0  "
      ]
     },
     "execution_count": 5,
     "metadata": {},
     "output_type": "execute_result"
    }
   ],
   "source": [
    "grid_address.head()"
   ]
  },
  {
   "cell_type": "code",
   "execution_count": 21,
   "metadata": {
    "collapsed": false
   },
   "outputs": [],
   "source": [
    "grid_id = []\n",
    "for match in df.match.values:\n",
    "    id_ = None\n",
    "    condition = grid_full.Name == match\n",
    "    if condition.sum() == 0:\n",
    "        condition = grid_alias.alias == match\n",
    "        if condition.sum() != 0:\n",
    "            id_ = grid_alias.loc[condition,\"grid_id\"].values[0]\n",
    "    else:\n",
    "        id_ = grid_full.loc[condition,\"ID\"].values[0]\n",
    "    grid_id.append(id_)"
   ]
  },
  {
   "cell_type": "code",
   "execution_count": 22,
   "metadata": {
    "collapsed": false
   },
   "outputs": [],
   "source": [
    "df[\"ID\"] = grid_id\n",
    "df = df.join(grid_address.set_index(keys=[\"grid_id\"]),on=\"ID\")"
   ]
  },
  {
   "cell_type": "code",
   "execution_count": 25,
   "metadata": {
    "collapsed": false
   },
   "outputs": [],
   "source": [
    "_df = df[[\"institutes\",\"n\",\"longitude\",\"latitude\",\"match\",\"score\",\"ID\",\"city\",\"state\",\"country\",\"country_code\"]]"
   ]
  },
  {
   "cell_type": "code",
   "execution_count": 26,
   "metadata": {
    "collapsed": true
   },
   "outputs": [],
   "source": [
    "_df.to_csv(\"/Users/hep/Downloads/19_10_2017_organisations_geocoded_with_location.csv\")"
   ]
  },
  {
   "cell_type": "code",
   "execution_count": null,
   "metadata": {
    "collapsed": true
   },
   "outputs": [],
   "source": []
  }
 ],
 "metadata": {
  "anaconda-cloud": {},
  "kernelspec": {
   "display_name": "Python [conda env:py35]",
   "language": "python",
   "name": "conda-env-py35-py"
  },
  "language_info": {
   "codemirror_mode": {
    "name": "ipython",
    "version": 3
   },
   "file_extension": ".py",
   "mimetype": "text/x-python",
   "name": "python",
   "nbconvert_exporter": "python",
   "pygments_lexer": "ipython3",
   "version": "3.5.2"
  }
 },
 "nbformat": 4,
 "nbformat_minor": 1
}
