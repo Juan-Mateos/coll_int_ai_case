{
 "cells": [
  {
   "cell_type": "code",
   "execution_count": null,
   "metadata": {
    "collapsed": true
   },
   "outputs": [],
   "source": [
    "import pandas as pd\n",
    "from fuzzywuzzy import fuzz\n",
    "from fuzzywuzzy import process as fuzzy_proc\n",
    "import numpy as np"
   ]
  },
  {
   "cell_type": "code",
   "execution_count": null,
   "metadata": {
    "collapsed": false
   },
   "outputs": [],
   "source": [
    "#_______________________\n",
    "class ComboFuzzer:\n",
    "    def __init__(self,fuzzers):\n",
    "        self.fuzzers = fuzzers\n",
    "        # Define the normalisation variable in advance\n",
    "        # NB: defined as inverse for speed\n",
    "        self.norm = 1/np.sqrt(len(fuzzers))\n",
    "    \n",
    "    def combo_fuzz(self,target,candidate):\n",
    "        _score = 0\n",
    "        for _fuzz in self.fuzzers:\n",
    "            _raw_score = (_fuzz(target,candidate)/100)\n",
    "            _score += _raw_score**2\n",
    "        return np.sqrt(_score)*self.norm\n",
    "\n",
    "#_______________________\n",
    "class LatLonGetter:\n",
    "    def __init__(self,grid_df,scorer):\n",
    "        self.scorer = scorer\n",
    "        # Find the null aliases\n",
    "        self.df = grid_df\n",
    "        null_alias = pd.isnull(self.df.alias)\n",
    "        not_null = self.df.loc[~null_alias]\n",
    "        # Now generate the list of names + not null aliases\n",
    "        alias_names = list(not_null.alias.values)\n",
    "        std_names = list(grid_df.Name.values)\n",
    "        self.all_possible_values = std_names + alias_names\n",
    "        self.lower_possible_values = [x.lower() for x in \n",
    "                                      self.all_possible_values]\n",
    "        self.fuzzy_matches = {}\n",
    "#         with open(\"fuzzy_scores.pydict\") as f:\n",
    "#             self.fuzzy_matches = ast.literal_eval(f.read())\n",
    "#         self.fuzzy_matches = {\"ibm\" : (\"IBM (United States)\",1.),\n",
    "#                               \"microsoft\" : (\"Microsoft (United States)\",1.),\n",
    "#                               \"xerox\" : (\"Xerox (United States)\", 1.),\n",
    "#                               \"pricewaterhousecoopers\" : (\"PricewaterhouseCoopers (United States)\",1.),\n",
    "#                               \"university of california berkeley\": (\"University of California, Berkeley\",1.),\n",
    "#                               \"university of california santa cruz\": (\"University of California, Santa Cruz\",1.),\n",
    "#                               \"linkoping university\": (\"Linköping University\",1.),\n",
    "#                               \"nec\" : (\"NEC (United States)\",1.),\n",
    "#                               \"university of michigan\" : (\"Michigan State University\",1.),\n",
    "#                               \"google\" : (\"Google (United States)\",1.),\n",
    "#                               \"yahoo\" : (\"Yahoo (United States)\",1.),\n",
    "#                               \"at t\" : (\"AT&T (United States)\",1.),\n",
    "#                               \"at t labs\" : (\"AT&T (United States\",1.)}\n",
    "        \n",
    "    def get_latlon(self,mak_name):\n",
    "        assert mak_name != \"\"\n",
    "        # Super-fast check to see if there is an exact match\n",
    "        try:\n",
    "            idx = self.lower_possible_values.index(mak_name)\n",
    "            match = self.all_possible_values[idx]\n",
    "            score = 1.\n",
    "        # Otherwise, fuzzy match\n",
    "        except ValueError:\n",
    "            # If already done a fuzzy match for this\n",
    "            if mak_name in self.fuzzy_matches:\n",
    "                match,score = self.fuzzy_matches[mak_name]\n",
    "            # Otherwise, do the fuzzy match\n",
    "            else:\n",
    "                match,score = fuzzy_proc.extractOne(query=mak_name,\n",
    "                                                    choices=self.all_possible_values,\n",
    "                                                    scorer=self.scorer)\n",
    "                self.fuzzy_matches[mak_name] = (match,score)\n",
    "\n",
    "        # Check whether the match was a Name or alias\n",
    "        condition = grid_df.Name == match\n",
    "        if condition.sum() == 0:\n",
    "            condition = grid_df.alias == match\n",
    "        _df = grid_df.loc[condition]\n",
    "\n",
    "        # Get the lat/lon\n",
    "        lat = _df[\"lat\"].values[0]\n",
    "        lon = _df[\"lng\"].values[0]\n",
    "        return (lat,lon,score)\n",
    "\n",
    "\n",
    "    def process_latlons(self,mak_institutes):\n",
    "        isnull = pd.isnull(mak_institutes)\n",
    "        if type(isnull) is bool:\n",
    "            if isnull:\n",
    "                return []\n",
    "        elif all(isnull):     \n",
    "            return []\n",
    "        return [self.get_latlon(mak_name) \n",
    "                for mak_name in mak_institutes]\n",
    "    \n",
    "#_______________________\n",
    "# Fuzzy combination of partial ratio and token sort ratio\n",
    "\n",
    "grid_full = pd.read_csv(\"/Users/hep/Downloads/grid20170810/grid.csv\",low_memory=False)\n",
    "grid_address = pd.read_csv(\"/Users/hep/Downloads/grid20170810/full_tables/addresses.csv\",low_memory=False)\n",
    "grid_alias = pd.read_csv(\"/Users/hep/Downloads/grid20170810/full_tables/aliases.csv\",low_memory=False)\n",
    "\n",
    "grid_df = grid_full.join(grid_address.set_index(keys=[\"grid_id\"]),on=\"ID\")\n",
    "grid_df = grid_df.join(grid_alias.set_index(keys=[\"grid_id\"]),on=\"ID\")\n",
    "grid_df = grid_df[[\"Name\",\"lat\",\"lng\",\"ID\",\"alias\"]]\n",
    "grid_df.head()\n",
    "\n",
    "cf = ComboFuzzer([fuzz.token_sort_ratio,fuzz.partial_ratio])\n",
    "llg = LatLonGetter(grid_df=grid_df,scorer=cf.combo_fuzz)"
   ]
  },
  {
   "cell_type": "code",
   "execution_count": null,
   "metadata": {
    "collapsed": false
   },
   "outputs": [],
   "source": [
    "mak_df = pd.read_csv(\"/Users/hep/Downloads/19_10_2017_organisations_to_geocode.csv\",names=[\"institutes\",\"n\"])\n",
    "lat_lon_score = llg.process_latlons(mak_df[\"institutes\"])"
   ]
  },
  {
   "cell_type": "code",
   "execution_count": null,
   "metadata": {
    "collapsed": false
   },
   "outputs": [],
   "source": [
    "mak_df[\"latitude\"] = [lat for lat,lon,score in lat_lon_score]\n",
    "mak_df[\"longitude\"] = [lon for lat,lon,score in lat_lon_score]\n",
    "mak_df[\"grid_mak_match_score\"] = [score for lat,lon,score in lat_lon_score]"
   ]
  },
  {
   "cell_type": "code",
   "execution_count": null,
   "metadata": {
    "collapsed": true
   },
   "outputs": [],
   "source": [
    "mak_df.head()"
   ]
  },
  {
   "cell_type": "code",
   "execution_count": null,
   "metadata": {
    "collapsed": true
   },
   "outputs": [],
   "source": [
    "mak_df[\"grid_mak_match_score\"].describe()"
   ]
  },
  {
   "cell_type": "code",
   "execution_count": null,
   "metadata": {
    "collapsed": true
   },
   "outputs": [],
   "source": []
  }
 ],
 "metadata": {
  "anaconda-cloud": {},
  "kernelspec": {
   "display_name": "Python [conda env:py35]",
   "language": "python",
   "name": "conda-env-py35-py"
  },
  "language_info": {
   "codemirror_mode": {
    "name": "ipython",
    "version": 3
   },
   "file_extension": ".py",
   "mimetype": "text/x-python",
   "name": "python",
   "nbconvert_exporter": "python",
   "pygments_lexer": "ipython3",
   "version": "3.5.2"
  }
 },
 "nbformat": 4,
 "nbformat_minor": 1
}
